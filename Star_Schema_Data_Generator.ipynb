{
  "cells": [
    {
      "cell_type": "markdown",
      "metadata": {
        "id": "view-in-github",
        "colab_type": "text"
      },
      "source": [
        "<a href=\"https://colab.research.google.com/github/jojrg/Star_Schema_Generator/blob/master/Star_Schema_Data_Generator.ipynb\" target=\"_parent\"><img src=\"https://colab.research.google.com/assets/colab-badge.svg\" alt=\"Open In Colab\"/></a>"
      ]
    },
    {
      "cell_type": "code",
      "source": [
        "!pip install Faker"
      ],
      "metadata": {
        "colab": {
          "base_uri": "https://localhost:8080/"
        },
        "id": "_ogHMMohqubm",
        "outputId": "69d677d1-153e-434e-bce7-6adbdb55f83a"
      },
      "execution_count": 1,
      "outputs": [
        {
          "output_type": "stream",
          "name": "stdout",
          "text": [
            "Collecting Faker\n",
            "  Downloading faker-37.1.0-py3-none-any.whl.metadata (15 kB)\n",
            "Requirement already satisfied: tzdata in /usr/local/lib/python3.11/dist-packages (from Faker) (2025.2)\n",
            "Downloading faker-37.1.0-py3-none-any.whl (1.9 MB)\n",
            "\u001b[2K   \u001b[90m━━━━━━━━━━━━━━━━━━━━━━━━━━━━━━━━━━━━━━━━\u001b[0m \u001b[32m1.9/1.9 MB\u001b[0m \u001b[31m18.0 MB/s\u001b[0m eta \u001b[36m0:00:00\u001b[0m\n",
            "\u001b[?25hInstalling collected packages: Faker\n",
            "Successfully installed Faker-37.1.0\n"
          ]
        }
      ]
    },
    {
      "cell_type": "markdown",
      "source": [
        "# Star Schema Data Generator\n",
        "\n",
        "This python code can be used as foundation for generating synthetic data stored in a Star Schema Data model\n",
        "\n",
        "The Code generates data for the follwing tables:\n",
        "\n",
        "*   Customers (Dimension Table)\n",
        "*   Receipts (Fact Table)\n",
        "*   Stores (Dimension Table)\n",
        "\n"
      ],
      "metadata": {
        "id": "OkfSxKLl5YpB"
      }
    },
    {
      "cell_type": "code",
      "source": [
        "import random\n",
        "from faker import Faker\n",
        "\n",
        "class DataFactory:\n",
        "    \"\"\"\n",
        "    A factory class to generate synthetic data for a star schema,\n",
        "    including receipts (fact table), customers, and stores (dimension tables).\n",
        "    \"\"\"\n",
        "\n",
        "    # German bounding box for generating random points (approximate)\n",
        "    GERMANY_BBOX = (47.2, 5.9, 55.0, 15.0)\n",
        "\n",
        "    def __init__(self, num_distinct_customers=50, num_distinct_stores=10,\n",
        "                 registered_customer_probability=0.6, locale='de_DE'):\n",
        "        \"\"\"\n",
        "        Initializes the DataFactory with configuration parameters.\n",
        "\n",
        "        Args:\n",
        "            num_distinct_customers (int, optional): Number of distinct customer IDs. Defaults to 50.\n",
        "            num_distinct_stores (int, optional): Number of distinct store IDs. Defaults to 10.\n",
        "            registered_customer_probability (float, optional): Probability of a customer being registered. Defaults to 0.6.\n",
        "            locale (str, optional): Faker locale to use. Defaults to 'de_DE'.\n",
        "        \"\"\"\n",
        "        self.num_distinct_customers = num_distinct_customers\n",
        "        self.num_distinct_stores = num_distinct_stores\n",
        "        self.registered_customer_probability = registered_customer_probability\n",
        "        self.fake = Faker(locale)\n",
        "        self.distinct_customer_ids = [self.fake.uuid4() for _ in range(self.num_distinct_customers)]\n",
        "        self.distinct_store_ids = [str(random.randint(1, 100)) for _ in range(self.num_distinct_stores)]\n",
        "        self.product_categories = {\n",
        "            \"Electronics\": [\"Laptop\", \"Smartphone\", \"Tablet\", \"Headphones\", \"Smartwatch\"],\n",
        "            \"Clothing\": [\"T-shirt\", \"Jeans\", \"Dress\", \"Jacket\", \"Shoes\"],\n",
        "            \"Books\": [\"Novel\", \"Cookbook\", \"Textbook\", \"Biography\", \"Poetry\"],\n",
        "            \"Groceries\": [\"Milk\", \"Eggs\", \"Bread\", \"Apples\", \"Chicken\"],\n",
        "            \"Home Goods\": [\"Lamp\", \"Pillow\", \"Blanket\", \"Table\", \"Chair\"],\n",
        "            \"Toys\": [\"Action Figure\", \"Board Game\", \"Puzzle\", \"Doll\", \"Building Blocks\"],\n",
        "            \"Sports\": [\"Basketball\", \"Running Shoes\", \"Yoga Mat\", \"Tennis Racket\", \"Football\"],\n",
        "            \"Beauty\": [\"Lipstick\", \"Shampoo\", \"Lotion\", \"Perfume\", \"Mascara\"]\n",
        "        }\n",
        "        self.payment_types = [\"Credit Card\", \"Debit Card\", \"Cash\", \"Online Payment\"]\n",
        "\n",
        "    def _generate_german_coordinates(self):\n",
        "        \"\"\"Generates random latitude and longitude within Germany.\"\"\"\n",
        "        min_lat, min_lon, max_lat, max_lon = self.GERMANY_BBOX\n",
        "        latitude = random.uniform(min_lat, max_lat)\n",
        "        longitude = random.uniform(min_lon, max_lon)\n",
        "        return latitude, longitude\n",
        "\n",
        "    def generate_receipts(self, num_receipts):\n",
        "        \"\"\"Generates a list of synthetic receipt records (fact table).\n",
        "\n",
        "        Args:\n",
        "            num_receipts (int): The number of receipt records to generate.\n",
        "\n",
        "        Returns:\n",
        "            list: A list of tuples, where each tuple represents a receipt record.\n",
        "                   Returns an empty list if num_receipts is not positive.\n",
        "        \"\"\"\n",
        "        if num_receipts <= 0:\n",
        "            return []\n",
        "        receipts_data = []\n",
        "        for _ in range(num_receipts):\n",
        "            timestamp = self.fake.date_time_between(start_date=\"-1y\", end_date=\"now\")\n",
        "            amount = random.randint(1, 10)\n",
        "            price = round(random.uniform(5, 100), 2)\n",
        "            price_sum = round(price * amount, 2)\n",
        "            category = random.choice(list(self.product_categories.keys()))\n",
        "            product = random.choice(self.product_categories[category])\n",
        "            payment_type = random.choice(self.payment_types)\n",
        "            creditcard_id = self.fake.credit_card_number() if payment_type in [\"Credit Card\", \"Debit Card\"] else None\n",
        "            customer_id = random.choice(self.distinct_customer_ids) if random.random() < self.registered_customer_probability else None\n",
        "            store_id = random.choice(self.distinct_store_ids)\n",
        "            receipts_data.append((\n",
        "                self.fake.uuid4(), timestamp, store_id, product, category,\n",
        "                amount, price, price_sum, payment_type, creditcard_id, customer_id\n",
        "            ))\n",
        "        return receipts_data\n",
        "\n",
        "    def generate_customers(self):\n",
        "        \"\"\"Generates a list of synthetic customer records (dimension table).\n",
        "\n",
        "        Returns:\n",
        "            list: A list of tuples, where each tuple represents a customer record.\n",
        "        \"\"\"\n",
        "        customer_data = []\n",
        "        for cid in self.distinct_customer_ids:\n",
        "            first_name = self.fake.first_name().lower()\n",
        "            last_name = self.fake.last_name().lower()\n",
        "            city = self.fake.city()\n",
        "            phone_number = self.fake.phone_number()\n",
        "            while not phone_number.startswith('+49'):\n",
        "                phone_number = self.fake.phone_number()\n",
        "            base_username = f\"{first_name}.{last_name}\"\n",
        "            profile_data = self.fake.profile()\n",
        "            generated_username = profile_data['username']\n",
        "            username = f\"{first_name[:3]}{last_name[:3]}{''.join(filter(str.isalnum, generated_username))[-3:]}\".lower()\n",
        "            domain = random.choice(['example.com', 'fake-mail.net', 'test.org'])\n",
        "            email = f\"{username}@{domain}\"\n",
        "            customer_data.append((cid, first_name.capitalize(), last_name.capitalize(), city, phone_number, email))\n",
        "        return customer_data\n",
        "\n",
        "    def generate_stores(self):\n",
        "        \"\"\"Generates a list of synthetic store records (dimension table).\n",
        "\n",
        "        Returns:\n",
        "            list: A list of tuples, where each tuple represents a store record.\n",
        "        \"\"\"\n",
        "        store_data = []\n",
        "        for store_id in self.distinct_store_ids:\n",
        "            store_name = f\"Store #{store_id}\"\n",
        "            latitude, longitude = self._generate_german_coordinates()\n",
        "            city = self.fake.city()\n",
        "            store_data.append((store_id, store_name, city, latitude, longitude))\n",
        "        return store_data\n",
        "\n",
        "def main():\n",
        "    \"\"\"\n",
        "    Main function to demonstrate the usage of DataFactory.\n",
        "    It creates an instance of DataFactory, generates data for receipts,\n",
        "    customers, and stores, and then prints the number of records generated\n",
        "    for each table.\n",
        "    \"\"\"\n",
        "    data_factory = DataFactory(num_distinct_customers=50, num_distinct_stores=10,\n",
        "                                 registered_customer_probability=0.6, locale='de_DE')\n",
        "\n",
        "    num_receipts_to_generate = 100000\n",
        "    receipts_data = data_factory.generate_receipts(num_receipts_to_generate)\n",
        "    customers_data = data_factory.generate_customers()\n",
        "    stores_data = data_factory.generate_stores()\n",
        "\n",
        "    print(f\"Generated {len(receipts_data)} receipt records.\")\n",
        "    print(f\"Generated {len(customers_data)} customer records.\")\n",
        "    print(f\"Generated {len(stores_data)} store records.\")\n",
        "\n",
        "    # You can further process the data here, e.g., insert into database tables.\n",
        "\n",
        "if __name__ == \"__main__\":\n",
        "    main()"
      ],
      "outputs": [
        {
          "output_type": "stream",
          "name": "stdout",
          "text": [
            "Generated 100000 receipt records.\n",
            "Generated 50 customer records.\n",
            "Generated 10 store records.\n"
          ]
        }
      ],
      "execution_count": 2,
      "metadata": {
        "colab": {
          "base_uri": "https://localhost:8080/"
        },
        "id": "jj3SHpqPqs2Y",
        "outputId": "bef28fe2-be3a-4726-f3a1-c2e4523e17dc"
      }
    },
    {
      "cell_type": "markdown",
      "source": [],
      "metadata": {
        "id": "pcSdPGR05R8D"
      }
    }
  ],
  "metadata": {
    "colab": {
      "provenance": [],
      "include_colab_link": true
    },
    "kernelspec": {
      "display_name": "Python 3",
      "name": "python3"
    }
  },
  "nbformat": 4,
  "nbformat_minor": 0
}